{
 "cells": [
  {
   "cell_type": "code",
   "execution_count": 10,
   "id": "9e2e52f8-5c4a-4bab-9181-08f4f0a08564",
   "metadata": {},
   "outputs": [
    {
     "name": "stderr",
     "output_type": "stream",
     "text": [
      "[nltk_data] Downloading package stopwords to\n",
      "[nltk_data]     C:\\Users\\admin\\AppData\\Roaming\\nltk_data...\n",
      "[nltk_data]   Package stopwords is already up-to-date!\n"
     ]
    },
    {
     "data": {
      "text/plain": [
       "True"
      ]
     },
     "execution_count": 10,
     "metadata": {},
     "output_type": "execute_result"
    }
   ],
   "source": [
    "import re\n",
    "import pandas as pd\n",
    "import numpy as np\n",
    "import tensorflow\n",
    "from tensorflow.keras.preprocessing.text import Tokenizer\n",
    "from tensorflow.keras.preprocessing.sequence import pad_sequences\n",
    "from tensorflow.keras.models import Sequential\n",
    "from tensorflow.keras.layers import Embedding, Bidirectional, LSTM, Dense, Dropout, BatchNormalization\n",
    "from tensorflow.keras.optimizers import Adam\n",
    "from tensorflow.keras.callbacks import EarlyStopping, ReduceLROnPlateau\n",
    "from sklearn.preprocessing import LabelEncoder\n",
    "from sklearn.model_selection import train_test_split\n",
    "from sklearn.metrics import f1_score\n",
    "import matplotlib.pyplot as plt\n",
    "from nltk.corpus import stopwords\n",
    "import nltk\n",
    "nltk.download('stopwords')"
   ]
  },
  {
   "cell_type": "code",
   "execution_count": 11,
   "id": "d431252d-5185-4fe1-8f0e-79809727499a",
   "metadata": {},
   "outputs": [
    {
     "name": "stdout",
     "output_type": "stream",
     "text": [
      "Train samples: 31755, Test samples: 7939\n"
     ]
    }
   ],
   "source": [
    "# Загрузка данных\n",
    "train_df = pd.read_csv('data/train.csv')\n",
    "test_df = pd.read_csv('data/test.csv')\n",
    "print(f\"Train samples: {len(train_df)}, Test samples: {len(test_df)}\")"
   ]
  },
  {
   "cell_type": "code",
   "execution_count": 12,
   "id": "9f035bf3-c95c-4dbe-8857-26b443ddc359",
   "metadata": {},
   "outputs": [],
   "source": [
    "# Чистка данных\n",
    "def preprocess_text(text):\n",
    "    # Стоп-слова\n",
    "    stop_words = stopwords.words('english')\n",
    "    text = str(text).lower()\n",
    "    text = re.sub(r'[^\\w\\s]', '', text)  # Удаление пунктуации\n",
    "    text = re.sub(r'\\d+', '', text)      # Удаление чисел\n",
    "    text = ' '.join([word for word in text.split() if word not in stop_words and len(word) > 2])\n",
    "    return text\n",
    "\n",
    "train_df['cleaned_text'] = train_df['text'].apply(preprocess_text)\n",
    "test_df['cleaned_text'] = test_df['text'].apply(preprocess_text)"
   ]
  },
  {
   "cell_type": "code",
   "execution_count": 13,
   "id": "3636f702-d7ee-44d3-9e12-976a170e56cc",
   "metadata": {},
   "outputs": [],
   "source": [
    "# Параметры\n",
    "max_words = 20000  # Увеличенный размер словаря\n",
    "max_len = 30      # Увеличенная длина последовательности\n",
    "embedding_dim = 300 # Большая размерность эмбеддингов\n",
    "\n",
    "# Токенизация\n",
    "tokenizer = Tokenizer(num_words=max_words, oov_token='<OOV>')\n",
    "tokenizer.fit_on_texts(train_df['cleaned_text'])\n",
    "\n",
    "X_train = pad_sequences(tokenizer.texts_to_sequences(train_df['cleaned_text']), maxlen=max_len)\n",
    "X_test = pad_sequences(tokenizer.texts_to_sequences(test_df['cleaned_text']), maxlen=max_len)\n",
    "\n",
    "# Кодирование меток\n",
    "label_encoder = LabelEncoder()\n",
    "y = label_encoder.fit_transform(train_df['target'])\n",
    "num_classes = len(label_encoder.classes_)"
   ]
  },
  {
   "cell_type": "code",
   "execution_count": 14,
   "id": "09ae6909-b936-4c9c-aae2-88132d17f705",
   "metadata": {},
   "outputs": [],
   "source": [
    "# Примененеие GloVe\n",
    "def load_glove_embeddings():\n",
    "    embeddings_index = {}\n",
    "    with open('data/glove.6B.300d.txt', encoding='utf8') as f:\n",
    "        for line in f:\n",
    "            values = line.split()\n",
    "            word = values[0]\n",
    "            coefs = np.asarray(values[1:], dtype='float32')\n",
    "            embeddings_index[word] = coefs\n",
    "    return embeddings_index\n",
    "\n",
    "embeddings_index = load_glove_embeddings()"
   ]
  },
  {
   "cell_type": "code",
   "execution_count": 15,
   "id": "99625257-4b7f-428c-8e51-1cbc4d29158c",
   "metadata": {},
   "outputs": [],
   "source": [
    "# Создание матрицы эмбеддингов\n",
    "embedding_matrix = np.zeros((max_words, embedding_dim))\n",
    "for word, i in tokenizer.word_index.items():\n",
    "    if i < max_words and word in embeddings_index:\n",
    "        embedding_matrix[i] = embeddings_index[word]"
   ]
  },
  {
   "cell_type": "code",
   "execution_count": 16,
   "id": "e9458a6b-f1a1-414c-a674-0ac5c5191c0e",
   "metadata": {},
   "outputs": [
    {
     "name": "stdout",
     "output_type": "stream",
     "text": [
      "Model: \"sequential_1\"\n",
      "_________________________________________________________________\n",
      " Layer (type)                Output Shape              Param #   \n",
      "=================================================================\n",
      " embedding_1 (Embedding)     (None, 30, 300)           6000000   \n",
      "                                                                 \n",
      " bidirectional_2 (Bidirectio  (None, 30, 516)          1153776   \n",
      " nal)                                                            \n",
      "                                                                 \n",
      " dropout_2 (Dropout)         (None, 30, 516)           0         \n",
      "                                                                 \n",
      " batch_normalization_1 (Batc  (None, 30, 516)          2064      \n",
      " hNormalization)                                                 \n",
      "                                                                 \n",
      " bidirectional_3 (Bidirectio  (None, 256)              660480    \n",
      " nal)                                                            \n",
      "                                                                 \n",
      " dropout_3 (Dropout)         (None, 256)               0         \n",
      "                                                                 \n",
      " dense_2 (Dense)             (None, 128)               32896     \n",
      "                                                                 \n",
      " dense_3 (Dense)             (None, 28)                3612      \n",
      "                                                                 \n",
      "=================================================================\n",
      "Total params: 7,852,828\n",
      "Trainable params: 1,851,796\n",
      "Non-trainable params: 6,001,032\n",
      "_________________________________________________________________\n"
     ]
    }
   ],
   "source": [
    "# Построение RNN модели\n",
    "model = Sequential([\n",
    "    Embedding(\n",
    "        input_dim=max_words,\n",
    "        output_dim=embedding_dim,\n",
    "        input_length=max_len,\n",
    "        weights=[embedding_matrix],\n",
    "        trainable=False  # Закрепляем предобученные эмбеддинги\n",
    "    ),\n",
    "    Bidirectional(LSTM(258, return_sequences=True)), #258\n",
    "    Dropout(0.3),\n",
    "    BatchNormalization(),\n",
    "    Bidirectional(LSTM(128)), #128\n",
    "    Dropout(0.3),\n",
    "    Dense(128, activation='relu'),\n",
    "    Dense(num_classes, activation='softmax')\n",
    "])\n",
    "\n",
    "model.compile(\n",
    "    optimizer=Adam(learning_rate=0.001),\n",
    "    loss='sparse_categorical_crossentropy',\n",
    "    metrics=['accuracy']\n",
    ")\n",
    "model.summary()"
   ]
  },
  {
   "cell_type": "code",
   "execution_count": 17,
   "id": "694bd7b0-3216-4b1d-aee6-18fe9749d775",
   "metadata": {},
   "outputs": [],
   "source": [
    "# F1-Score метрика для каждой эпохи\n",
    "class F1Metrics(tensorflow.keras.callbacks.Callback):\n",
    "    def __init__(self, X_val, y_val):\n",
    "        super().__init__()\n",
    "        self.X_val = X_val\n",
    "        self.y_val = y_val\n",
    "    \n",
    "    def on_epoch_end(self, epoch, logs=None):\n",
    "        y_pred = np.argmax(self.model.predict(self.X_val), axis=1)\n",
    "        f1 = f1_score(self.y_val, y_pred, average='macro')\n",
    "        print(f\"Val F1-Score: {f1:.4f}\")\n",
    "        logs['val_f1'] = f1"
   ]
  },
  {
   "cell_type": "code",
   "execution_count": 18,
   "id": "83e89089-c12c-4594-8c4a-eddeea70027c",
   "metadata": {},
   "outputs": [],
   "source": [
    "# Разделение данных\n",
    "X_train_split, X_val, y_train_split, y_val = train_test_split(\n",
    "    X_train, y, test_size=0.2, random_state=42, stratify=y\n",
    ")"
   ]
  },
  {
   "cell_type": "code",
   "execution_count": 19,
   "id": "2143062e-33a4-44fc-8be5-ae4158afdd95",
   "metadata": {},
   "outputs": [
    {
     "name": "stdout",
     "output_type": "stream",
     "text": [
      "Epoch 1/30\n",
      "395/397 [============================>.] - ETA: 0s - loss: 1.9054 - accuracy: 0.5231WARNING:tensorflow:Early stopping conditioned on metric `val_f1` which is not available. Available metrics are: loss,accuracy,val_loss,val_accuracy\n",
      "199/199 [==============================] - 2s 7ms/step\n",
      "Val F1-Score: 0.2161\n",
      "397/397 [==============================] - 13s 28ms/step - loss: 1.9051 - accuracy: 0.5230 - val_loss: 1.6741 - val_accuracy: 0.5690 - lr: 0.0010 - val_f1: 0.2161\n",
      "Epoch 2/30\n",
      "397/397 [==============================] - ETA: 0s - loss: 1.5979 - accuracy: 0.5785WARNING:tensorflow:Early stopping conditioned on metric `val_f1` which is not available. Available metrics are: loss,accuracy,val_loss,val_accuracy\n",
      "199/199 [==============================] - 1s 7ms/step\n",
      "Val F1-Score: 0.3217\n",
      "397/397 [==============================] - 10s 25ms/step - loss: 1.5979 - accuracy: 0.5785 - val_loss: 1.5418 - val_accuracy: 0.6013 - lr: 0.0010 - val_f1: 0.3217\n",
      "Epoch 3/30\n",
      "397/397 [==============================] - ETA: 0s - loss: 1.4813 - accuracy: 0.5999WARNING:tensorflow:Early stopping conditioned on metric `val_f1` which is not available. Available metrics are: loss,accuracy,val_loss,val_accuracy\n",
      "199/199 [==============================] - 1s 7ms/step\n",
      "Val F1-Score: 0.3570\n",
      "397/397 [==============================] - 10s 25ms/step - loss: 1.4813 - accuracy: 0.5999 - val_loss: 1.5023 - val_accuracy: 0.6092 - lr: 0.0010 - val_f1: 0.3570\n",
      "Epoch 4/30\n",
      "397/397 [==============================] - ETA: 0s - loss: 1.3868 - accuracy: 0.6217WARNING:tensorflow:Early stopping conditioned on metric `val_f1` which is not available. Available metrics are: loss,accuracy,val_loss,val_accuracy\n",
      "199/199 [==============================] - 1s 7ms/step\n",
      "Val F1-Score: 0.3826\n",
      "397/397 [==============================] - 10s 25ms/step - loss: 1.3868 - accuracy: 0.6217 - val_loss: 1.5003 - val_accuracy: 0.6131 - lr: 0.0010 - val_f1: 0.3826\n",
      "Epoch 5/30\n",
      "397/397 [==============================] - ETA: 0s - loss: 1.3074 - accuracy: 0.6359WARNING:tensorflow:Early stopping conditioned on metric `val_f1` which is not available. Available metrics are: loss,accuracy,val_loss,val_accuracy\n",
      "199/199 [==============================] - 1s 7ms/step\n",
      "Val F1-Score: 0.3800\n",
      "397/397 [==============================] - 10s 25ms/step - loss: 1.3074 - accuracy: 0.6359 - val_loss: 1.4913 - val_accuracy: 0.6186 - lr: 0.0010 - val_f1: 0.3800\n",
      "Epoch 6/30\n",
      "397/397 [==============================] - ETA: 0s - loss: 1.2280 - accuracy: 0.6468WARNING:tensorflow:Early stopping conditioned on metric `val_f1` which is not available. Available metrics are: loss,accuracy,val_loss,val_accuracy\n",
      "199/199 [==============================] - 1s 7ms/step\n",
      "Val F1-Score: 0.4062\n",
      "397/397 [==============================] - 10s 25ms/step - loss: 1.2280 - accuracy: 0.6468 - val_loss: 1.5345 - val_accuracy: 0.5957 - lr: 0.0010 - val_f1: 0.4062\n",
      "Epoch 7/30\n",
      "397/397 [==============================] - ETA: 0s - loss: 1.1542 - accuracy: 0.6626WARNING:tensorflow:Early stopping conditioned on metric `val_f1` which is not available. Available metrics are: loss,accuracy,val_loss,val_accuracy\n",
      "199/199 [==============================] - 1s 7ms/step\n",
      "Val F1-Score: 0.3887\n",
      "397/397 [==============================] - 10s 25ms/step - loss: 1.1542 - accuracy: 0.6626 - val_loss: 1.5438 - val_accuracy: 0.5996 - lr: 0.0010 - val_f1: 0.3887\n",
      "Epoch 8/30\n",
      "397/397 [==============================] - ETA: 0s - loss: 0.9763 - accuracy: 0.7020WARNING:tensorflow:Early stopping conditioned on metric `val_f1` which is not available. Available metrics are: loss,accuracy,val_loss,val_accuracy\n",
      "199/199 [==============================] - 1s 7ms/step\n",
      "Val F1-Score: 0.4065\n",
      "397/397 [==============================] - 10s 25ms/step - loss: 0.9763 - accuracy: 0.7020 - val_loss: 1.5782 - val_accuracy: 0.6023 - lr: 2.0000e-04 - val_f1: 0.4065\n",
      "Epoch 9/30\n",
      "397/397 [==============================] - ETA: 0s - loss: 0.8918 - accuracy: 0.7231WARNING:tensorflow:Early stopping conditioned on metric `val_f1` which is not available. Available metrics are: loss,accuracy,val_loss,val_accuracy\n",
      "199/199 [==============================] - 1s 7ms/step\n",
      "Val F1-Score: 0.4066\n",
      "397/397 [==============================] - 10s 24ms/step - loss: 0.8918 - accuracy: 0.7231 - val_loss: 1.6055 - val_accuracy: 0.5957 - lr: 2.0000e-04 - val_f1: 0.4066\n",
      "Epoch 10/30\n",
      "397/397 [==============================] - ETA: 0s - loss: 0.8166 - accuracy: 0.7443WARNING:tensorflow:Early stopping conditioned on metric `val_f1` which is not available. Available metrics are: loss,accuracy,val_loss,val_accuracy\n",
      "199/199 [==============================] - 1s 7ms/step\n",
      "Val F1-Score: 0.4104\n",
      "397/397 [==============================] - 10s 25ms/step - loss: 0.8166 - accuracy: 0.7443 - val_loss: 1.6314 - val_accuracy: 0.5993 - lr: 4.0000e-05 - val_f1: 0.4104\n",
      "Epoch 11/30\n",
      "397/397 [==============================] - ETA: 0s - loss: 0.8041 - accuracy: 0.7488WARNING:tensorflow:Early stopping conditioned on metric `val_f1` which is not available. Available metrics are: loss,accuracy,val_loss,val_accuracy\n",
      "199/199 [==============================] - 1s 7ms/step\n",
      "Val F1-Score: 0.4113\n",
      "397/397 [==============================] - 10s 24ms/step - loss: 0.8041 - accuracy: 0.7488 - val_loss: 1.6475 - val_accuracy: 0.5991 - lr: 4.0000e-05 - val_f1: 0.4113\n",
      "Epoch 12/30\n",
      "397/397 [==============================] - ETA: 0s - loss: 0.7907 - accuracy: 0.7539WARNING:tensorflow:Early stopping conditioned on metric `val_f1` which is not available. Available metrics are: loss,accuracy,val_loss,val_accuracy\n",
      "199/199 [==============================] - 1s 7ms/step\n",
      "Val F1-Score: 0.4118\n",
      "397/397 [==============================] - 10s 24ms/step - loss: 0.7907 - accuracy: 0.7539 - val_loss: 1.6503 - val_accuracy: 0.5974 - lr: 8.0000e-06 - val_f1: 0.4118\n",
      "Epoch 13/30\n",
      "397/397 [==============================] - ETA: 0s - loss: 0.7873 - accuracy: 0.7550WARNING:tensorflow:Early stopping conditioned on metric `val_f1` which is not available. Available metrics are: loss,accuracy,val_loss,val_accuracy\n",
      "199/199 [==============================] - 1s 7ms/step\n",
      "Val F1-Score: 0.4109\n",
      "397/397 [==============================] - 10s 24ms/step - loss: 0.7873 - accuracy: 0.7550 - val_loss: 1.6542 - val_accuracy: 0.5980 - lr: 8.0000e-06 - val_f1: 0.4109\n",
      "Epoch 14/30\n",
      "397/397 [==============================] - ETA: 0s - loss: 0.7835 - accuracy: 0.7545WARNING:tensorflow:Early stopping conditioned on metric `val_f1` which is not available. Available metrics are: loss,accuracy,val_loss,val_accuracy\n",
      "199/199 [==============================] - 1s 7ms/step\n",
      "Val F1-Score: 0.4102\n",
      "397/397 [==============================] - 10s 24ms/step - loss: 0.7835 - accuracy: 0.7545 - val_loss: 1.6552 - val_accuracy: 0.5979 - lr: 1.6000e-06 - val_f1: 0.4102\n",
      "Epoch 15/30\n",
      "397/397 [==============================] - ETA: 0s - loss: 0.7817 - accuracy: 0.7555WARNING:tensorflow:Early stopping conditioned on metric `val_f1` which is not available. Available metrics are: loss,accuracy,val_loss,val_accuracy\n",
      "199/199 [==============================] - 1s 7ms/step\n",
      "Val F1-Score: 0.4108\n",
      "397/397 [==============================] - 10s 24ms/step - loss: 0.7817 - accuracy: 0.7555 - val_loss: 1.6563 - val_accuracy: 0.5990 - lr: 1.6000e-06 - val_f1: 0.4108\n",
      "Epoch 16/30\n",
      "397/397 [==============================] - ETA: 0s - loss: 0.7817 - accuracy: 0.7537WARNING:tensorflow:Early stopping conditioned on metric `val_f1` which is not available. Available metrics are: loss,accuracy,val_loss,val_accuracy\n",
      "199/199 [==============================] - 1s 7ms/step\n",
      "Val F1-Score: 0.4113\n",
      "397/397 [==============================] - 10s 24ms/step - loss: 0.7817 - accuracy: 0.7537 - val_loss: 1.6559 - val_accuracy: 0.5983 - lr: 3.2000e-07 - val_f1: 0.4113\n",
      "Epoch 17/30\n",
      "397/397 [==============================] - ETA: 0s - loss: 0.7812 - accuracy: 0.7564WARNING:tensorflow:Early stopping conditioned on metric `val_f1` which is not available. Available metrics are: loss,accuracy,val_loss,val_accuracy\n",
      "199/199 [==============================] - 1s 6ms/step\n",
      "Val F1-Score: 0.4098\n",
      "397/397 [==============================] - 10s 24ms/step - loss: 0.7812 - accuracy: 0.7564 - val_loss: 1.6551 - val_accuracy: 0.5972 - lr: 3.2000e-07 - val_f1: 0.4098\n",
      "Epoch 18/30\n",
      "397/397 [==============================] - ETA: 0s - loss: 0.7797 - accuracy: 0.7552WARNING:tensorflow:Early stopping conditioned on metric `val_f1` which is not available. Available metrics are: loss,accuracy,val_loss,val_accuracy\n",
      "199/199 [==============================] - 1s 7ms/step\n",
      "Val F1-Score: 0.4104\n",
      "397/397 [==============================] - 9s 23ms/step - loss: 0.7797 - accuracy: 0.7552 - val_loss: 1.6569 - val_accuracy: 0.5988 - lr: 6.4000e-08 - val_f1: 0.4104\n",
      "Epoch 19/30\n",
      "397/397 [==============================] - ETA: 0s - loss: 0.7790 - accuracy: 0.7573WARNING:tensorflow:Early stopping conditioned on metric `val_f1` which is not available. Available metrics are: loss,accuracy,val_loss,val_accuracy\n",
      "199/199 [==============================] - 1s 7ms/step\n",
      "Val F1-Score: 0.4103\n",
      "397/397 [==============================] - 9s 23ms/step - loss: 0.7790 - accuracy: 0.7573 - val_loss: 1.6560 - val_accuracy: 0.5977 - lr: 6.4000e-08 - val_f1: 0.4103\n",
      "Epoch 20/30\n",
      "397/397 [==============================] - ETA: 0s - loss: 0.7817 - accuracy: 0.7575WARNING:tensorflow:Early stopping conditioned on metric `val_f1` which is not available. Available metrics are: loss,accuracy,val_loss,val_accuracy\n",
      "199/199 [==============================] - 1s 7ms/step\n",
      "Val F1-Score: 0.4105\n",
      "397/397 [==============================] - 9s 23ms/step - loss: 0.7817 - accuracy: 0.7575 - val_loss: 1.6564 - val_accuracy: 0.5980 - lr: 1.2800e-08 - val_f1: 0.4105\n",
      "Epoch 21/30\n",
      "397/397 [==============================] - ETA: 0s - loss: 0.7828 - accuracy: 0.7549WARNING:tensorflow:Early stopping conditioned on metric `val_f1` which is not available. Available metrics are: loss,accuracy,val_loss,val_accuracy\n",
      "199/199 [==============================] - 1s 7ms/step\n",
      "Val F1-Score: 0.4104\n",
      "397/397 [==============================] - 9s 24ms/step - loss: 0.7828 - accuracy: 0.7549 - val_loss: 1.6563 - val_accuracy: 0.5980 - lr: 1.2800e-08 - val_f1: 0.4104\n",
      "Epoch 22/30\n",
      "397/397 [==============================] - ETA: 0s - loss: 0.7810 - accuracy: 0.7549WARNING:tensorflow:Early stopping conditioned on metric `val_f1` which is not available. Available metrics are: loss,accuracy,val_loss,val_accuracy\n",
      "199/199 [==============================] - 1s 7ms/step\n",
      "Val F1-Score: 0.4102\n",
      "397/397 [==============================] - 10s 24ms/step - loss: 0.7810 - accuracy: 0.7549 - val_loss: 1.6570 - val_accuracy: 0.5982 - lr: 2.5600e-09 - val_f1: 0.4102\n",
      "Epoch 23/30\n",
      "397/397 [==============================] - ETA: 0s - loss: 0.7754 - accuracy: 0.7552WARNING:tensorflow:Early stopping conditioned on metric `val_f1` which is not available. Available metrics are: loss,accuracy,val_loss,val_accuracy\n",
      "199/199 [==============================] - 1s 7ms/step\n",
      "Val F1-Score: 0.4108\n",
      "397/397 [==============================] - 10s 24ms/step - loss: 0.7754 - accuracy: 0.7552 - val_loss: 1.6563 - val_accuracy: 0.5985 - lr: 2.5600e-09 - val_f1: 0.4108\n",
      "Epoch 24/30\n",
      "397/397 [==============================] - ETA: 0s - loss: 0.7759 - accuracy: 0.7564WARNING:tensorflow:Early stopping conditioned on metric `val_f1` which is not available. Available metrics are: loss,accuracy,val_loss,val_accuracy\n",
      "199/199 [==============================] - 1s 7ms/step\n",
      "Val F1-Score: 0.4119\n",
      "397/397 [==============================] - 10s 24ms/step - loss: 0.7759 - accuracy: 0.7564 - val_loss: 1.6563 - val_accuracy: 0.5985 - lr: 5.1200e-10 - val_f1: 0.4119\n",
      "Epoch 25/30\n",
      "396/397 [============================>.] - ETA: 0s - loss: 0.7802 - accuracy: 0.7535WARNING:tensorflow:Early stopping conditioned on metric `val_f1` which is not available. Available metrics are: loss,accuracy,val_loss,val_accuracy\n",
      "199/199 [==============================] - 1s 7ms/step\n",
      "Val F1-Score: 0.4109\n",
      "397/397 [==============================] - 10s 25ms/step - loss: 0.7798 - accuracy: 0.7536 - val_loss: 1.6559 - val_accuracy: 0.5983 - lr: 5.1200e-10 - val_f1: 0.4109\n",
      "Epoch 26/30\n",
      "395/397 [============================>.] - ETA: 0s - loss: 0.7767 - accuracy: 0.7569WARNING:tensorflow:Early stopping conditioned on metric `val_f1` which is not available. Available metrics are: loss,accuracy,val_loss,val_accuracy\n",
      "199/199 [==============================] - 1s 7ms/step\n",
      "Val F1-Score: 0.4105\n",
      "397/397 [==============================] - 10s 25ms/step - loss: 0.7762 - accuracy: 0.7571 - val_loss: 1.6566 - val_accuracy: 0.5975 - lr: 1.0240e-10 - val_f1: 0.4105\n",
      "Epoch 27/30\n",
      "397/397 [==============================] - ETA: 0s - loss: 0.7774 - accuracy: 0.7560WARNING:tensorflow:Early stopping conditioned on metric `val_f1` which is not available. Available metrics are: loss,accuracy,val_loss,val_accuracy\n",
      "199/199 [==============================] - 1s 7ms/step\n",
      "Val F1-Score: 0.4111\n",
      "397/397 [==============================] - 10s 25ms/step - loss: 0.7774 - accuracy: 0.7560 - val_loss: 1.6562 - val_accuracy: 0.5979 - lr: 1.0240e-10 - val_f1: 0.4111\n",
      "Epoch 28/30\n",
      "397/397 [==============================] - ETA: 0s - loss: 0.7805 - accuracy: 0.7563WARNING:tensorflow:Early stopping conditioned on metric `val_f1` which is not available. Available metrics are: loss,accuracy,val_loss,val_accuracy\n",
      "199/199 [==============================] - 1s 7ms/step\n",
      "Val F1-Score: 0.4107\n",
      "397/397 [==============================] - 10s 24ms/step - loss: 0.7805 - accuracy: 0.7563 - val_loss: 1.6562 - val_accuracy: 0.5985 - lr: 2.0480e-11 - val_f1: 0.4107\n",
      "Epoch 29/30\n",
      "397/397 [==============================] - ETA: 0s - loss: 0.7774 - accuracy: 0.7559WARNING:tensorflow:Early stopping conditioned on metric `val_f1` which is not available. Available metrics are: loss,accuracy,val_loss,val_accuracy\n",
      "199/199 [==============================] - 1s 7ms/step\n",
      "Val F1-Score: 0.4103\n",
      "397/397 [==============================] - 10s 24ms/step - loss: 0.7774 - accuracy: 0.7559 - val_loss: 1.6564 - val_accuracy: 0.5977 - lr: 2.0480e-11 - val_f1: 0.4103\n",
      "Epoch 30/30\n",
      "397/397 [==============================] - ETA: 0s - loss: 0.7804 - accuracy: 0.7542WARNING:tensorflow:Early stopping conditioned on metric `val_f1` which is not available. Available metrics are: loss,accuracy,val_loss,val_accuracy\n",
      "199/199 [==============================] - 1s 7ms/step\n",
      "Val F1-Score: 0.4113\n",
      "397/397 [==============================] - 10s 24ms/step - loss: 0.7804 - accuracy: 0.7542 - val_loss: 1.6566 - val_accuracy: 0.5980 - lr: 4.0960e-12 - val_f1: 0.4113\n"
     ]
    }
   ],
   "source": [
    "# Обучение модели RNN\n",
    "history = model.fit(\n",
    "    X_train_split, y_train_split,\n",
    "    validation_data=(X_val, y_val),\n",
    "    epochs=30, # Кол-во эпох\n",
    "    batch_size=64, # Батчфайл\n",
    "    callbacks=[\n",
    "        EarlyStopping(monitor='val_f1', patience=3, mode='max', restore_best_weights=True),\n",
    "        ReduceLROnPlateau(monitor='val_loss', factor=0.2, patience=2),\n",
    "        F1Metrics(X_val, y_val)\n",
    "    ]\n",
    ")"
   ]
  },
  {
   "cell_type": "code",
   "execution_count": 20,
   "id": "2a9d9b8f-2f10-46b6-b52d-39e538166d20",
   "metadata": {
    "jupyter": {
     "is_executing": true
    },
    "scrolled": true
   },
   "outputs": [
    {
     "data": {
      "image/png": "[encoded data removed]",
      "text/plain": [
       "<Figure size 1200x500 with 2 Axes>"
      ]
     },
     "metadata": {},
     "output_type": "display_data"
    }
   ],
   "source": [
    "# Визуализация\n",
    "plt.figure(figsize=(12, 5))\n",
    "plt.subplot(1, 2, 1)\n",
    "plt.plot(history.history['accuracy'], label='Train Accuracy')\n",
    "plt.plot(history.history['val_accuracy'], label='Val Accuracy')\n",
    "plt.title('Model Accuracy')\n",
    "plt.legend()\n",
    "\n",
    "plt.subplot(1, 2, 2)\n",
    "plt.plot(history.history['loss'], label='Train Loss')\n",
    "plt.plot(history.history['val_loss'], label='Val Loss')\n",
    "plt.title('Model Loss')\n",
    "plt.legend()\n",
    "plt.show()"
   ]
  },
  {
   "cell_type": "code",
   "execution_count": 21,
   "id": "6d2dc0b0-e4cb-4fd1-b11c-b7ac220d2c16",
   "metadata": {},
   "outputs": [
    {
     "name": "stdout",
     "output_type": "stream",
     "text": [
      "249/249 [==============================] - 2s 7ms/step\n"
     ]
    }
   ],
   "source": [
    "# Сохранение файла\n",
    "test_pred = np.argmax(model.predict(X_test), axis=1)\n",
    "submission = pd.DataFrame({\n",
    "    'id': test_df['id'],\n",
    "    'target': label_encoder.inverse_transform(test_pred)\n",
    "})\n",
    "submission.to_csv('submissions/submission.csv', index=False)"
   ]
  }
 ],
 "metadata": {
  "kernelspec": {
   "display_name": "tf",
   "language": "python",
   "name": "tf"
  },
  "language_info": {
   "codemirror_mode": {
    "name": "ipython",
    "version": 3
   },
   "file_extension": ".py",
   "mimetype": "text/x-python",
   "name": "python",
   "nbconvert_exporter": "python",
   "pygments_lexer": "ipython3",
   "version": "3.9.21"
  }
 },
 "nbformat": 4,
 "nbformat_minor": 5
}
